{
 "cells": [
  {
   "cell_type": "markdown",
   "id": "3f3e2118",
   "metadata": {},
   "source": [
    "# ADS Project 4: Machine Learning Fairness\n",
    "## Fall 2022\n",
    "#### Maximizing Accuracy under Fairness Constraints (C-LR and C-SVM)"
   ]
  },
  {
   "cell_type": "markdown",
   "id": "c4d8503c",
   "metadata": {},
   "source": [
    "Group 5: Christopher Halim"
   ]
  },
  {
   "cell_type": "markdown",
   "id": "d45e331e",
   "metadata": {},
   "source": [
    "## 1. Overview <a class=\"anchor\" id=\"overview\"></a>"
   ]
  },
  {
   "cell_type": "markdown",
   "id": "0c8b865a",
   "metadata": {},
   "source": [
    "+ The dataset that is used in this notebook has been cleaned and is stored under the output Github file. \n",
    "\n",
    "+ This notebook algorithm is on maximizing accuracy under fairness constraints using C-LR and C-SVM (A2)\n",
    "\n",
    "+ We used `utils.py` and `loss_funcs.py` as additional modules for our analysis to help build our algorithm"
   ]
  },
  {
   "cell_type": "markdown",
   "id": "645344a2",
   "metadata": {},
   "source": [
    "## 2. Load Modules and Data <a class=\"anchor\" id=\"load\"></a>"
   ]
  },
  {
   "cell_type": "code",
   "execution_count": 1,
   "id": "4e291cb7",
   "metadata": {},
   "outputs": [],
   "source": [
    "# Load modules\n",
    "import os, sys\n",
    "import numpy as np\n",
    "import pandas as pd\n",
    "sys.path.insert(0, \"/Users/christopherhalim888/Library/CloudStorage/OneDrive-Personal/Master/Fall 2022/STAT 5243\")\n",
    "import utils1 as ut\n",
    "import loss_funcs as lf\n",
    "from sklearn.linear_model import LogisticRegression\n",
    "from sklearn.utils import shuffle\n",
    "from sklearn.metrics import log_loss\n",
    "from utils12 import *"
   ]
  },
  {
   "cell_type": "code",
   "execution_count": 2,
   "id": "0708fd62",
   "metadata": {},
   "outputs": [
    {
     "name": "stdout",
     "output_type": "stream",
     "text": [
      "['Pool', 'Process', 'Queue', 'SEED', '__builtins__', '__cached__', '__doc__', '__file__', '__loader__', '__name__', '__package__', '__spec__', 'add_intercept', 'check_accuracy', 'check_binary', 'compute_cross_validation_error', 'compute_p_rule', 'deepcopy', 'defaultdict', 'get_avg_correlation_dict', 'get_constraint_list_cov', 'get_correlations', 'get_line_coordinates', 'get_one_hot_encoding', 'lf', 'minimize', 'np', 'plot_cov_thresh_vs_acc_pos_ratio', 'plt', 'print_classifier_fairness_stats', 'print_covariance_sensitive_attrs', 'seed', 'shuffle', 'split_into_train_test', 'sys', 'test_sensitive_attr_constraint_cov', 'train_model']\n"
     ]
    }
   ],
   "source": [
    "print(dir(ut))"
   ]
  },
  {
   "cell_type": "code",
   "execution_count": 3,
   "id": "1e3e2668",
   "metadata": {},
   "outputs": [
    {
     "data": {
      "text/html": [
       "<div>\n",
       "<style scoped>\n",
       "    .dataframe tbody tr th:only-of-type {\n",
       "        vertical-align: middle;\n",
       "    }\n",
       "\n",
       "    .dataframe tbody tr th {\n",
       "        vertical-align: top;\n",
       "    }\n",
       "\n",
       "    .dataframe thead th {\n",
       "        text-align: right;\n",
       "    }\n",
       "</style>\n",
       "<table border=\"1\" class=\"dataframe\">\n",
       "  <thead>\n",
       "    <tr style=\"text-align: right;\">\n",
       "      <th></th>\n",
       "      <th>sex</th>\n",
       "      <th>age_cat</th>\n",
       "      <th>race</th>\n",
       "      <th>priors_count</th>\n",
       "      <th>c_charge_degree</th>\n",
       "      <th>length_of_stay</th>\n",
       "      <th>two_year_recid</th>\n",
       "    </tr>\n",
       "  </thead>\n",
       "  <tbody>\n",
       "    <tr>\n",
       "      <th>0</th>\n",
       "      <td>Male</td>\n",
       "      <td>25 - 45</td>\n",
       "      <td>African-American</td>\n",
       "      <td>-0.733607</td>\n",
       "      <td>F</td>\n",
       "      <td>-0.177294</td>\n",
       "      <td>1</td>\n",
       "    </tr>\n",
       "    <tr>\n",
       "      <th>1</th>\n",
       "      <td>Male</td>\n",
       "      <td>&lt; 25</td>\n",
       "      <td>African-American</td>\n",
       "      <td>0.055928</td>\n",
       "      <td>F</td>\n",
       "      <td>-0.350235</td>\n",
       "      <td>1</td>\n",
       "    </tr>\n",
       "    <tr>\n",
       "      <th>2</th>\n",
       "      <td>Male</td>\n",
       "      <td>25 - 45</td>\n",
       "      <td>Caucasian</td>\n",
       "      <td>2.029767</td>\n",
       "      <td>F</td>\n",
       "      <td>-0.254156</td>\n",
       "      <td>1</td>\n",
       "    </tr>\n",
       "    <tr>\n",
       "      <th>3</th>\n",
       "      <td>Female</td>\n",
       "      <td>25 - 45</td>\n",
       "      <td>Caucasian</td>\n",
       "      <td>-0.733607</td>\n",
       "      <td>M</td>\n",
       "      <td>-0.311803</td>\n",
       "      <td>0</td>\n",
       "    </tr>\n",
       "    <tr>\n",
       "      <th>4</th>\n",
       "      <td>Male</td>\n",
       "      <td>&lt; 25</td>\n",
       "      <td>Caucasian</td>\n",
       "      <td>-0.536224</td>\n",
       "      <td>F</td>\n",
       "      <td>-0.350235</td>\n",
       "      <td>1</td>\n",
       "    </tr>\n",
       "  </tbody>\n",
       "</table>\n",
       "</div>"
      ],
      "text/plain": [
       "      sex  age_cat              race  priors_count c_charge_degree  \\\n",
       "0    Male  25 - 45  African-American     -0.733607               F   \n",
       "1    Male     < 25  African-American      0.055928               F   \n",
       "2    Male  25 - 45         Caucasian      2.029767               F   \n",
       "3  Female  25 - 45         Caucasian     -0.733607               M   \n",
       "4    Male     < 25         Caucasian     -0.536224               F   \n",
       "\n",
       "   length_of_stay  two_year_recid  \n",
       "0       -0.177294               1  \n",
       "1       -0.350235               1  \n",
       "2       -0.254156               1  \n",
       "3       -0.311803               0  \n",
       "4       -0.350235               1  "
      ]
     },
     "execution_count": 3,
     "metadata": {},
     "output_type": "execute_result"
    }
   ],
   "source": [
    "# Load data\n",
    "df = pd.read_csv('/Users/christopherhalim888/Library/CloudStorage/OneDrive-Personal/Master/Fall 2022/STAT 5243/compas-scores-two-years(cleaned).csv')\n",
    "df.head()"
   ]
  },
  {
   "cell_type": "markdown",
   "id": "c11af853",
   "metadata": {},
   "source": [
    "Encode categorical variables with dummy variables:\n",
    "+ `sex`: 1 for male and 0 for female\n",
    "+ `age_cat`: 2 for > 45, 1 for 25 - 45 and 0 for < 25\n",
    "+ `race`: 1 for caucasian and 0 for african-american\n",
    "+ `c_charge_degree`: 1 for F and 0 for M"
   ]
  },
  {
   "cell_type": "code",
   "execution_count": 4,
   "id": "6d51b0cd",
   "metadata": {},
   "outputs": [
    {
     "data": {
      "text/html": [
       "<div>\n",
       "<style scoped>\n",
       "    .dataframe tbody tr th:only-of-type {\n",
       "        vertical-align: middle;\n",
       "    }\n",
       "\n",
       "    .dataframe tbody tr th {\n",
       "        vertical-align: top;\n",
       "    }\n",
       "\n",
       "    .dataframe thead th {\n",
       "        text-align: right;\n",
       "    }\n",
       "</style>\n",
       "<table border=\"1\" class=\"dataframe\">\n",
       "  <thead>\n",
       "    <tr style=\"text-align: right;\">\n",
       "      <th></th>\n",
       "      <th>sex</th>\n",
       "      <th>age_cat</th>\n",
       "      <th>race</th>\n",
       "      <th>priors_count</th>\n",
       "      <th>c_charge_degree</th>\n",
       "      <th>length_of_stay</th>\n",
       "      <th>two_year_recid</th>\n",
       "    </tr>\n",
       "  </thead>\n",
       "  <tbody>\n",
       "    <tr>\n",
       "      <th>0</th>\n",
       "      <td>1</td>\n",
       "      <td>1</td>\n",
       "      <td>0</td>\n",
       "      <td>-0.733607</td>\n",
       "      <td>1</td>\n",
       "      <td>-0.177294</td>\n",
       "      <td>1</td>\n",
       "    </tr>\n",
       "    <tr>\n",
       "      <th>1</th>\n",
       "      <td>1</td>\n",
       "      <td>0</td>\n",
       "      <td>0</td>\n",
       "      <td>0.055928</td>\n",
       "      <td>1</td>\n",
       "      <td>-0.350235</td>\n",
       "      <td>1</td>\n",
       "    </tr>\n",
       "    <tr>\n",
       "      <th>2</th>\n",
       "      <td>1</td>\n",
       "      <td>1</td>\n",
       "      <td>1</td>\n",
       "      <td>2.029767</td>\n",
       "      <td>1</td>\n",
       "      <td>-0.254156</td>\n",
       "      <td>1</td>\n",
       "    </tr>\n",
       "    <tr>\n",
       "      <th>3</th>\n",
       "      <td>0</td>\n",
       "      <td>1</td>\n",
       "      <td>1</td>\n",
       "      <td>-0.733607</td>\n",
       "      <td>0</td>\n",
       "      <td>-0.311803</td>\n",
       "      <td>0</td>\n",
       "    </tr>\n",
       "    <tr>\n",
       "      <th>4</th>\n",
       "      <td>1</td>\n",
       "      <td>0</td>\n",
       "      <td>1</td>\n",
       "      <td>-0.536224</td>\n",
       "      <td>1</td>\n",
       "      <td>-0.350235</td>\n",
       "      <td>1</td>\n",
       "    </tr>\n",
       "  </tbody>\n",
       "</table>\n",
       "</div>"
      ],
      "text/plain": [
       "   sex  age_cat  race  priors_count  c_charge_degree  length_of_stay  \\\n",
       "0    1        1     0     -0.733607                1       -0.177294   \n",
       "1    1        0     0      0.055928                1       -0.350235   \n",
       "2    1        1     1      2.029767                1       -0.254156   \n",
       "3    0        1     1     -0.733607                0       -0.311803   \n",
       "4    1        0     1     -0.536224                1       -0.350235   \n",
       "\n",
       "   two_year_recid  \n",
       "0               1  \n",
       "1               1  \n",
       "2               1  \n",
       "3               0  \n",
       "4               1  "
      ]
     },
     "execution_count": 4,
     "metadata": {},
     "output_type": "execute_result"
    }
   ],
   "source": [
    "# Encode variables with dummy variables\n",
    "df['sex'] = df['sex'].apply(lambda sex: 0 if sex == 'Female' else 1)\n",
    "df['age_cat'] = df['age_cat'].apply(lambda age_cat: 2 if age_cat == '> 45' else(1 if age_cat == '25 - 45' else 0))\n",
    "df['race'] = df['race'].apply(lambda race: 0 if race == 'African-American' else 1)\n",
    "df['c_charge_degree'] = df['c_charge_degree'].apply(lambda c_charge_degree: 0 if c_charge_degree == 'M' else 1)\n",
    "df.head()"
   ]
  },
  {
   "cell_type": "code",
   "execution_count": 5,
   "id": "c24e1311",
   "metadata": {},
   "outputs": [],
   "source": [
    "# Vars to store features\n",
    "variables = ['sex', 'age_cat', 'priors_count', 'c_charge_degree', 'length_of_stay']\n",
    "dependent = 'race'\n",
    "target = 'two_year_recid'\n",
    "\n",
    "# Function to process and shuffle data\n",
    "def process_df(df):\n",
    "    y_label = df[target]\n",
    "    protected_attr = df[dependent]\n",
    "    df_new = df[variables]\n",
    "    y_label, protected_attr, df_new = shuffle(y_label, protected_attr, df_new, random_state = 617)\n",
    "    \n",
    "    return y_label.to_numpy(), protected_attr.to_numpy(), df_new.to_numpy()\n",
    "\n",
    "# Split data into train and test\n",
    "y_label, protected_attr, df_new =  process_df(df)\n",
    "train_index = int(len(df_new) * 0.8)\n",
    "x_train, y_train, race_train = df_new[:train_index], y_label[:train_index], protected_attr[:train_index]\n",
    "x_test, y_test, race_test = df_new[train_index:], y_label[train_index:],protected_attr[train_index:]"
   ]
  },
  {
   "cell_type": "markdown",
   "id": "a8963532",
   "metadata": {},
   "source": [
    "We also created a function to determine the p-rule (p%) and a function to compute calibration.\n",
    "\n",
    "+ **Protected**: Caucasians (i.e., `race == 1`)\n",
    "+ **Not protected**: African-Americans (i.e., `race == 0`)"
   ]
  },
  {
   "cell_type": "code",
   "execution_count": 6,
   "id": "7e2bb50e",
   "metadata": {},
   "outputs": [],
   "source": [
    "# Function to compute p-rule\n",
    "def p_rule(sensitive_var, y_pred):\n",
    "    protected = np.where(sensitive_var == 1)[0]\n",
    "    not_protected = np.where(sensitive_var == 0)[0]\n",
    "    protected_pred = np.where(y_pred[protected] == 1)\n",
    "    not_protected_pred = np.where(y_pred[not_protected] == 1)\n",
    "    protected_percent = protected_pred[0].shape[0]/protected.shape[0]\n",
    "    not_protected_percent = not_protected_pred[0].shape[0]/not_protected.shape[0]\n",
    "    ratio = min(protected_percent/not_protected_percent, not_protected_percent/protected_percent)\n",
    "    \n",
    "    return ratio, protected_percent, not_protected_percent"
   ]
  },
  {
   "cell_type": "code",
   "execution_count": 7,
   "id": "fa0f47f0",
   "metadata": {},
   "outputs": [],
   "source": [
    "# Function to compute calibration\n",
    "def calibration(sensitive_var, y_pred, y_true):\n",
    "    protected_point = np.where(sensitive_var == 1)[0]\n",
    "    y_predcau = y_pred[protected_point]\n",
    "    y_truecau = y_true[protected_point]\n",
    "    pcau = sum(y_predcau==y_truecau)/len(y_truecau)\n",
    "    not_protected_point = np.where(sensitive_var == 0)[0]\n",
    "    y_predafa = y_pred[not_protected_point]\n",
    "    y_trueafa = y_true[not_protected_point]\n",
    "    pafa = sum(y_predafa==y_trueafa)/len(y_trueafa)\n",
    "    calibration = abs(pcau-pafa)\n",
    "    return(calibration)"
   ]
  },
  {
   "cell_type": "markdown",
   "id": "70568a58",
   "metadata": {},
   "source": [
    "## 3. Logistic Regression <a class=\"anchor\" id=\"lr\"></a>"
   ]
  },
  {
   "cell_type": "markdown",
   "id": "62b00da9",
   "metadata": {},
   "source": [
    "### 3.1 Training unconstrained classifier"
   ]
  },
  {
   "cell_type": "markdown",
   "id": "e004c9fa",
   "metadata": {},
   "source": [
    "First we train a baseline, unconstained classifier to evaluate its accuracy and p-rule."
   ]
  },
  {
   "cell_type": "code",
   "execution_count": 8,
   "id": "c7d18c24",
   "metadata": {},
   "outputs": [
    {
     "data": {
      "text/html": [
       "<div>\n",
       "<style scoped>\n",
       "    .dataframe tbody tr th:only-of-type {\n",
       "        vertical-align: middle;\n",
       "    }\n",
       "\n",
       "    .dataframe tbody tr th {\n",
       "        vertical-align: top;\n",
       "    }\n",
       "\n",
       "    .dataframe thead th {\n",
       "        text-align: right;\n",
       "    }\n",
       "</style>\n",
       "<table border=\"1\" class=\"dataframe\">\n",
       "  <thead>\n",
       "    <tr style=\"text-align: right;\">\n",
       "      <th></th>\n",
       "      <th>Classifier</th>\n",
       "      <th>Set</th>\n",
       "      <th>Accuracy (%)</th>\n",
       "      <th>P-rule (%)</th>\n",
       "      <th>Protected (%)</th>\n",
       "      <th>Not protected (%)</th>\n",
       "      <th>Calibration (%)</th>\n",
       "    </tr>\n",
       "  </thead>\n",
       "  <tbody>\n",
       "    <tr>\n",
       "      <th>0</th>\n",
       "      <td>LR</td>\n",
       "      <td>Train</td>\n",
       "      <td>66.462384</td>\n",
       "      <td>54.662021</td>\n",
       "      <td>29.752501</td>\n",
       "      <td>54.429933</td>\n",
       "      <td>1.417935</td>\n",
       "    </tr>\n",
       "    <tr>\n",
       "      <th>1</th>\n",
       "      <td>LR</td>\n",
       "      <td>Test</td>\n",
       "      <td>65.426881</td>\n",
       "      <td>62.270080</td>\n",
       "      <td>33.611691</td>\n",
       "      <td>53.977273</td>\n",
       "      <td>3.369650</td>\n",
       "    </tr>\n",
       "  </tbody>\n",
       "</table>\n",
       "</div>"
      ],
      "text/plain": [
       "  Classifier    Set  Accuracy (%)  P-rule (%)  Protected (%)  \\\n",
       "0         LR  Train     66.462384   54.662021      29.752501   \n",
       "1         LR   Test     65.426881   62.270080      33.611691   \n",
       "\n",
       "   Not protected (%)  Calibration (%)  \n",
       "0          54.429933         1.417935  \n",
       "1          53.977273         3.369650  "
      ]
     },
     "execution_count": 8,
     "metadata": {},
     "output_type": "execute_result"
    }
   ],
   "source": [
    "# Train model and print results\n",
    "clf = LogisticRegression(random_state = 0).fit(x_train, y_train)\n",
    "coeff = clf.coef_\n",
    "intercept = clf.intercept_\n",
    "optimal_loss = log_loss(y_train, clf.predict_proba(x_train))\n",
    "results_lr = {\"Classifier\": [\"LR\", \"LR\"], \n",
    "              \"Set\": [\"Train\", \"Test\"],\n",
    "              \"Accuracy (%)\": [clf.score(x_train, y_train)*100, clf.score(x_test, y_test)*100],\n",
    "              \"P-rule (%)\": [p_rule(race_train, clf.predict(x_train))[0]*100, p_rule(race_test, clf.predict(x_test))[0]*100],\n",
    "              \"Protected (%)\": [p_rule(race_train, clf.predict(x_train))[1]*100, p_rule(race_test, clf.predict(x_test))[1]*100],\n",
    "              \"Not protected (%)\": [p_rule(race_train, clf.predict(x_train))[2]*100, p_rule(race_test, clf.predict(x_test))[2]*100],\n",
    "              \"Calibration (%)\": [calibration(race_train, clf.predict(x_train), y_train)*100, calibration(race_test, clf.predict(x_test), y_test)*100]}\n",
    "pd.DataFrame(results_lr)"
   ]
  },
  {
   "cell_type": "markdown",
   "id": "fb1f2cfb",
   "metadata": {},
   "source": [
    "### 3.2 Optimizing classifier accuracy subject to fairness constraints"
   ]
  },
  {
   "cell_type": "markdown",
   "id": "e75eea19",
   "metadata": {},
   "source": [
    "Now we optimize accuracy subject to fairness constraints. Notice that setting `{'race': 0}` means that the classifier should achieve 0 covariance between the sensitive feature (`race`) value and distance to the decision boundary. A 0 covariance would mean no correlation between the two variables."
   ]
  },
  {
   "cell_type": "code",
   "execution_count": 9,
   "id": "1bec9dda",
   "metadata": {
    "scrolled": true
   },
   "outputs": [],
   "source": [
    "# Setting flags\n",
    "apply_fairness_constraints = 1 # set this flag to 1 since we want to optimize accuracy subject to fairness constraints\n",
    "apply_accuracy_constraint = 0\n",
    "sep_constraint = 0\n",
    "gamma = None\n",
    "sensitive_attrs = ['race']\n",
    "sensitive_attrs_to_cov_thresh = {'race': 0}\n",
    "x_control = {'race': race_train}\n",
    "\n",
    "# Train model\n",
    "np.random.seed(100)\n",
    "w = ut.train_model(x_train,\n",
    "                   y_train,\n",
    "                   x_control,\n",
    "                   lf._logistic_loss,\n",
    "                   apply_fairness_constraints,\n",
    "                   apply_accuracy_constraint,\n",
    "                   sep_constraint,\n",
    "                   sensitive_attrs,\n",
    "                   sensitive_attrs_to_cov_thresh,\n",
    "                   gamma)"
   ]
  },
  {
   "cell_type": "code",
   "execution_count": 10,
   "id": "4ae25c44",
   "metadata": {},
   "outputs": [],
   "source": [
    "# Fit coefficients/weights into logistic regression in sklearn\n",
    "m = LogisticRegression()\n",
    "m.coef_= w.reshape((1,-1))\n",
    "m.intercept_ = 0\n",
    "m.classes_ = np.array([0, 1])"
   ]
  },
  {
   "cell_type": "code",
   "execution_count": 11,
   "id": "603d611d",
   "metadata": {},
   "outputs": [
    {
     "data": {
      "text/html": [
       "<div>\n",
       "<style scoped>\n",
       "    .dataframe tbody tr th:only-of-type {\n",
       "        vertical-align: middle;\n",
       "    }\n",
       "\n",
       "    .dataframe tbody tr th {\n",
       "        vertical-align: top;\n",
       "    }\n",
       "\n",
       "    .dataframe thead th {\n",
       "        text-align: right;\n",
       "    }\n",
       "</style>\n",
       "<table border=\"1\" class=\"dataframe\">\n",
       "  <thead>\n",
       "    <tr style=\"text-align: right;\">\n",
       "      <th></th>\n",
       "      <th>Classifier</th>\n",
       "      <th>Set</th>\n",
       "      <th>Accuracy (%)</th>\n",
       "      <th>P-rule (%)</th>\n",
       "      <th>Protected (%)</th>\n",
       "      <th>Not protected (%)</th>\n",
       "      <th>Calibration (%)</th>\n",
       "    </tr>\n",
       "  </thead>\n",
       "  <tbody>\n",
       "    <tr>\n",
       "      <th>0</th>\n",
       "      <td>C-LR</td>\n",
       "      <td>Train</td>\n",
       "      <td>48.013525</td>\n",
       "      <td>99.947862</td>\n",
       "      <td>99.842022</td>\n",
       "      <td>99.894105</td>\n",
       "      <td>13.261964</td>\n",
       "    </tr>\n",
       "    <tr>\n",
       "      <th>1</th>\n",
       "      <td>C-LR</td>\n",
       "      <td>Test</td>\n",
       "      <td>46.661031</td>\n",
       "      <td>100.000000</td>\n",
       "      <td>100.000000</td>\n",
       "      <td>100.000000</td>\n",
       "      <td>10.000415</td>\n",
       "    </tr>\n",
       "  </tbody>\n",
       "</table>\n",
       "</div>"
      ],
      "text/plain": [
       "  Classifier    Set  Accuracy (%)  P-rule (%)  Protected (%)  \\\n",
       "0       C-LR  Train     48.013525   99.947862      99.842022   \n",
       "1       C-LR   Test     46.661031  100.000000     100.000000   \n",
       "\n",
       "   Not protected (%)  Calibration (%)  \n",
       "0          99.894105        13.261964  \n",
       "1         100.000000        10.000415  "
      ]
     },
     "execution_count": 11,
     "metadata": {},
     "output_type": "execute_result"
    }
   ],
   "source": [
    "# Print results\n",
    "results_clr = {\"Classifier\": [\"C-LR\", \"C-LR\"],\n",
    "               \"Set\": [\"Train\", \"Test\"],\n",
    "               \"Accuracy (%)\": [m.score(x_train, y_train)*100, m.score(x_test, y_test)*100],\n",
    "               \"P-rule (%)\": [p_rule(race_train, m.predict(x_train))[0]*100, p_rule(race_test, m.predict(x_test))[0]*100],\n",
    "               \"Protected (%)\": [p_rule(race_train, m.predict(x_train))[1]*100, p_rule(race_test, m.predict(x_test))[1]*100],\n",
    "               \"Not protected (%)\": [p_rule(race_train, m.predict(x_train))[2]*100, p_rule(race_test, m.predict(x_test))[2]*100],\n",
    "               \"Calibration (%)\": [calibration(race_train, m.predict(x_train), y_train)*100, calibration(race_test, m.predict(x_test), y_test)*100]}\n",
    "pd.DataFrame(results_clr)"
   ]
  },
  {
   "cell_type": "markdown",
   "id": "cd1faac2",
   "metadata": {},
   "source": [
    "## 4. Support Vector Machine (SVM) <a class=\"anchor\" id=\"svm\"></a>"
   ]
  },
  {
   "cell_type": "markdown",
   "id": "d7c5981c",
   "metadata": {},
   "source": [
    "The following SVM codes are an adaptation of the paper on [Fairness Constraints: Mechanisms for Fair Classification](https://arxiv.org/abs/1507.05259). Additional helper functions like `SVM_scratch.py`, `datapreprocess.py` and `helper.py`were adapted from this GitHub [repo](https://github.com/SreeranjaniD/Fairness-in-Classification-using-SVM)."
   ]
  },
  {
   "cell_type": "code",
   "execution_count": 12,
   "id": "f9381f97",
   "metadata": {},
   "outputs": [],
   "source": [
    "# Load modules\n",
    "from SVM_scratch import *\n",
    "from datapreprocess import *\n",
    "from helper import *\n",
    "\n",
    "# Set variables needed for training\n",
    "x_control_train = {'race': race_train}\n",
    "x_control_test = {'race': race_test}"
   ]
  },
  {
   "cell_type": "markdown",
   "id": "26574504",
   "metadata": {},
   "source": [
    "Here we define a function for the classifier, which trains the model based on the fairness constraints."
   ]
  },
  {
   "cell_type": "code",
   "execution_count": 13,
   "id": "26b3a7e5",
   "metadata": {},
   "outputs": [],
   "source": [
    "# Define function for classifier\n",
    "def classifier(apply_fairness_constraints,loss_function,c,sensitive_attrs,max_iter=1000,epoch=50,lamb=1,lr=0.1,C=1,gamma=None):\n",
    "    svm =SVM()\n",
    "    w = svm.training(x_train,y_train, x_control_train, loss_function,C,max_iter,lamb,epoch,lr, apply_fairness_constraints, sensitive_attrs, c,gamma)\n",
    "    train_score, test_score, correct_answers_train, correct_answers_test = ut.check_accuracy(w, x_train, y_train, x_test, y_test, None, None)\n",
    "    distances_hyperplane_test = (np.dot(x_test, w)).tolist()\n",
    "    all_class_labels_assigned_test = np.sign(distances_hyperplane_test)\n",
    "    correlation_test_dict = ut.get_correlations(None, None, all_class_labels_assigned_test, x_control_test, sensitive_attrs)\n",
    "    cov_dict_test = ut.print_covariance_sensitive_attrs(None, x_test, distances_hyperplane_test, x_control_test, sensitive_attrs)\n",
    "    ut.print_classifier_fairness_stats([test_score],correlation_test_dict, [cov_dict_test], sensitive_attrs[0])"
   ]
  },
  {
   "cell_type": "markdown",
   "id": "f6632771",
   "metadata": {},
   "source": [
    "### 4.1 Training unconstrained SVM classifier"
   ]
  },
  {
   "cell_type": "code",
   "execution_count": 14,
   "id": "af2a19b7",
   "metadata": {},
   "outputs": [
    {
     "data": {
      "text/html": [
       "<div>\n",
       "<style scoped>\n",
       "    .dataframe tbody tr th:only-of-type {\n",
       "        vertical-align: middle;\n",
       "    }\n",
       "\n",
       "    .dataframe tbody tr th {\n",
       "        vertical-align: top;\n",
       "    }\n",
       "\n",
       "    .dataframe thead th {\n",
       "        text-align: right;\n",
       "    }\n",
       "</style>\n",
       "<table border=\"1\" class=\"dataframe\">\n",
       "  <thead>\n",
       "    <tr style=\"text-align: right;\">\n",
       "      <th></th>\n",
       "      <th>Classifier</th>\n",
       "      <th>Set</th>\n",
       "      <th>Accuracy (%)</th>\n",
       "      <th>P-rule (%)</th>\n",
       "      <th>Protected (%)</th>\n",
       "      <th>Not protected (%)</th>\n",
       "      <th>Calibration (%)</th>\n",
       "    </tr>\n",
       "  </thead>\n",
       "  <tbody>\n",
       "    <tr>\n",
       "      <th>0</th>\n",
       "      <td>SVM</td>\n",
       "      <td>Train</td>\n",
       "      <td>66.208791</td>\n",
       "      <td>52.057837</td>\n",
       "      <td>26.276988</td>\n",
       "      <td>50.476527</td>\n",
       "      <td>0.818440</td>\n",
       "    </tr>\n",
       "    <tr>\n",
       "      <th>1</th>\n",
       "      <td>SVM</td>\n",
       "      <td>Test</td>\n",
       "      <td>65.511412</td>\n",
       "      <td>63.109384</td>\n",
       "      <td>31.106472</td>\n",
       "      <td>49.289773</td>\n",
       "      <td>3.227605</td>\n",
       "    </tr>\n",
       "  </tbody>\n",
       "</table>\n",
       "</div>"
      ],
      "text/plain": [
       "  Classifier    Set  Accuracy (%)  P-rule (%)  Protected (%)  \\\n",
       "0        SVM  Train     66.208791   52.057837      26.276988   \n",
       "1        SVM   Test     65.511412   63.109384      31.106472   \n",
       "\n",
       "   Not protected (%)  Calibration (%)  \n",
       "0          50.476527         0.818440  \n",
       "1          49.289773         3.227605  "
      ]
     },
     "execution_count": 14,
     "metadata": {},
     "output_type": "execute_result"
    }
   ],
   "source": [
    "# Train model and print results\n",
    "from sklearn import svm\n",
    "from sklearn.svm import SVC\n",
    "from sklearn.model_selection import train_test_split\n",
    "from sklearn.model_selection import KFold\n",
    "from sklearn.preprocessing import StandardScaler\n",
    "from sklearn.utils import shuffle\n",
    "from sklearn.metrics import accuracy_score\n",
    "from sklearn.metrics import log_loss\n",
    "\n",
    "svm_model = SVC(kernel = 'linear', probability = True)\n",
    "\n",
    "# Train model and print results\n",
    "clf = svm_model.fit(x_train, y_train)\n",
    "optimal_loss = log_loss(y_train, clf.predict_proba(x_train))\n",
    "results_svm = {\"Classifier\": [\"SVM\", \"SVM\"],\n",
    "               \"Set\": [\"Train\", \"Test\"],\n",
    "               \"Accuracy (%)\": [clf.score(x_train, y_train)*100, clf.score(x_test, y_test)*100],\n",
    "               \"P-rule (%)\": [p_rule(race_train, clf.predict(x_train))[0]*100, p_rule(race_test, clf.predict(x_test))[0]*100],\n",
    "               \"Protected (%)\": [p_rule(race_train, clf.predict(x_train))[1]*100, p_rule(race_test, clf.predict(x_test))[1]*100],\n",
    "               \"Not protected (%)\": [p_rule(race_train, clf.predict(x_train))[2]*100, p_rule(race_test, clf.predict(x_test))[2]*100],\n",
    "               \"Calibration (%)\": [calibration(race_train, clf.predict(x_train), y_train)*100, calibration(race_test, clf.predict(x_test), y_test)*100]}\n",
    "pd.DataFrame(results_svm)"
   ]
  },
  {
   "cell_type": "markdown",
   "id": "c7d3b47b",
   "metadata": {},
   "source": [
    "### 4.2 Optimizing SVM classifier accuracy subject to fairness constraints"
   ]
  },
  {
   "cell_type": "markdown",
   "id": "b4e62089",
   "metadata": {},
   "source": [
    "Now we optimize accuracy subject to fairness constraints. "
   ]
  },
  {
   "cell_type": "code",
   "execution_count": 15,
   "id": "136511ab",
   "metadata": {},
   "outputs": [],
   "source": [
    "# Subject to fairness constraints\n",
    "apply_fairness_constraints = 1 # set this flag to one since we want to optimize accuracy subject to fairness constraints\n",
    "loss_function = lf._hinge_loss\n",
    "sensitive_attrs = ['race']\n",
    "c = {'race': 0} # covariance threshold\n",
    "C = 1 # penalty term\n",
    "\n",
    "# gamma controls how much loss in accuracy we are willing to incur to achieve fairness \n",
    "# Increase in gamma decrease the accuracy to a certain limit \n",
    "# But we are setting it to None as we are not tuning gamma\n",
    "gamma = None\n",
    "epochs = 1000 # Number of epochs \n",
    "lamb = 1 # lambda \n",
    "lr = 0.1  # learning rate \n",
    "max_iter = 1000"
   ]
  },
  {
   "cell_type": "markdown",
   "id": "1241ab92",
   "metadata": {},
   "source": [
    "We defined a `csvm` function that returns the train and test scores, and the predicted values for train and test so that we can compute the accuracy and calibration scores later."
   ]
  },
  {
   "cell_type": "code",
   "execution_count": 16,
   "id": "425cce28",
   "metadata": {},
   "outputs": [],
   "source": [
    "# Define function for training that returns scores\n",
    "def csvm(x_train, y_train, x_test, y_test, C, max_iter, lamb, epochs,lr, apply_fairness_constraints, \n",
    "         sensitive_attrs, sensitive_attrs_to_cov_thresh=c, gamma=None):\n",
    "    \n",
    "    svm = SVM()\n",
    "    w = svm.training(x_train, y_train, x_control_train, loss_function, C, max_iter, lamb, epochs, lr, \n",
    "                     apply_fairness_constraints, sensitive_attrs, sensitive_attrs_to_cov_thresh, gamma)\n",
    "    y_test_predicted = np.sign(np.dot(x_test, w))\n",
    "    y_train_predicted = np.sign(np.dot(x_train, w))\n",
    "    \n",
    "    def get_accuracy(y, Y_predicted):\n",
    "        correct_answers = (Y_predicted == y).astype(int) # will have 1 when the prediction and the actual label match\n",
    "        accuracy = float(sum(correct_answers)) / float(len(correct_answers))\n",
    "        return accuracy, sum(correct_answers)\n",
    "\n",
    "    train_score, correct_answers_train = get_accuracy(y_train, y_train_predicted)\n",
    "    test_score, correct_answers_test = get_accuracy(y_test, y_test_predicted)\n",
    "    return train_score, test_score, correct_answers_train, correct_answers_test, y_test_predicted, y_train_predicted"
   ]
  },
  {
   "cell_type": "code",
   "execution_count": 17,
   "id": "06dac958",
   "metadata": {},
   "outputs": [
    {
     "name": "stdout",
     "output_type": "stream",
     "text": [
      "Running custom model with fairness constraints\n"
     ]
    }
   ],
   "source": [
    "# Run model\n",
    "train_score, test_score, correct_answers_train, correct_answers_test, y_test_predicted, y_train_predicted = csvm(x_train, y_train, x_test, y_test, C, max_iter, lamb, epochs,lr, apply_fairness_constraints, sensitive_attrs, sensitive_attrs_to_cov_thresh=c, gamma=None)"
   ]
  },
  {
   "cell_type": "code",
   "execution_count": 18,
   "id": "879367bc",
   "metadata": {},
   "outputs": [
    {
     "data": {
      "text/html": [
       "<div>\n",
       "<style scoped>\n",
       "    .dataframe tbody tr th:only-of-type {\n",
       "        vertical-align: middle;\n",
       "    }\n",
       "\n",
       "    .dataframe tbody tr th {\n",
       "        vertical-align: top;\n",
       "    }\n",
       "\n",
       "    .dataframe thead th {\n",
       "        text-align: right;\n",
       "    }\n",
       "</style>\n",
       "<table border=\"1\" class=\"dataframe\">\n",
       "  <thead>\n",
       "    <tr style=\"text-align: right;\">\n",
       "      <th></th>\n",
       "      <th>Classifier</th>\n",
       "      <th>Set</th>\n",
       "      <th>Accuracy (%)</th>\n",
       "      <th>P-rule (%)</th>\n",
       "      <th>Protected (%)</th>\n",
       "      <th>Not protected (%)</th>\n",
       "      <th>Calibration (%)</th>\n",
       "    </tr>\n",
       "  </thead>\n",
       "  <tbody>\n",
       "    <tr>\n",
       "      <th>0</th>\n",
       "      <td>C-SVM</td>\n",
       "      <td>Train</td>\n",
       "      <td>47.950127</td>\n",
       "      <td>99.930458</td>\n",
       "      <td>99.789363</td>\n",
       "      <td>99.858807</td>\n",
       "      <td>13.331984</td>\n",
       "    </tr>\n",
       "    <tr>\n",
       "      <th>1</th>\n",
       "      <td>C-SVM</td>\n",
       "      <td>Test</td>\n",
       "      <td>46.661031</td>\n",
       "      <td>100.000000</td>\n",
       "      <td>100.000000</td>\n",
       "      <td>100.000000</td>\n",
       "      <td>10.000415</td>\n",
       "    </tr>\n",
       "  </tbody>\n",
       "</table>\n",
       "</div>"
      ],
      "text/plain": [
       "  Classifier    Set  Accuracy (%)  P-rule (%)  Protected (%)  \\\n",
       "0      C-SVM  Train     47.950127   99.930458      99.789363   \n",
       "1      C-SVM   Test     46.661031  100.000000     100.000000   \n",
       "\n",
       "   Not protected (%)  Calibration (%)  \n",
       "0          99.858807        13.331984  \n",
       "1         100.000000        10.000415  "
      ]
     },
     "execution_count": 18,
     "metadata": {},
     "output_type": "execute_result"
    }
   ],
   "source": [
    "# Print results\n",
    "results_csvm = {\"Classifier\": [\"C-SVM\", \"C-SVM\"],\n",
    "                \"Set\": [\"Train\", \"Test\"],\n",
    "                \"Accuracy (%)\": [train_score*100, test_score*100],\n",
    "                \"P-rule (%)\": [p_rule(race_train, y_train_predicted)[0]*100, p_rule(race_test, y_test_predicted)[0]*100],\n",
    "                \"Protected (%)\": [p_rule(race_train, y_train_predicted)[1]*100, p_rule(race_test, y_test_predicted)[1]*100],\n",
    "                \"Not protected (%)\": [p_rule(race_train, y_train_predicted)[2]*100, p_rule(race_test, y_test_predicted)[2]*100],\n",
    "                \"Calibration (%)\": [calibration(race_train, y_train_predicted, y_train)*100, calibration(race_test, y_test_predicted, y_test)*100]}\n",
    "pd.DataFrame(results_csvm)"
   ]
  }
 ],
 "metadata": {
  "kernelspec": {
   "display_name": "Python 3",
   "language": "python",
   "name": "python3"
  },
  "language_info": {
   "codemirror_mode": {
    "name": "ipython",
    "version": 3
   },
   "file_extension": ".py",
   "mimetype": "text/x-python",
   "name": "python",
   "nbconvert_exporter": "python",
   "pygments_lexer": "ipython3",
   "version": "3.8.8"
  }
 },
 "nbformat": 4,
 "nbformat_minor": 5
}
