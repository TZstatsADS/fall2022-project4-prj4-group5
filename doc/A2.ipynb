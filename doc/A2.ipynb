{
 "cells": [
  {
   "cell_type": "markdown",
   "id": "3f3e2118",
   "metadata": {},
   "source": [
    "# ADS Project 4: Machine Learning Fairness\n",
    "## Fall 2022\n",
    "#### Maximizing Accuracy under Fairness Constraints (C-LR and C-SVM)"
   ]
  },
  {
   "cell_type": "markdown",
   "id": "c4d8503c",
   "metadata": {},
   "source": [
    "Group 5: Christopher Halim"
   ]
  },
  {
   "cell_type": "markdown",
   "id": "d45e331e",
   "metadata": {},
   "source": [
    "## 1. Background"
   ]
  },
  {
   "cell_type": "markdown",
   "id": "0c8b865a",
   "metadata": {},
   "source": [
    "+ The dataset that is used in this notebook has been cleaned and is stored under the output Github file. \n",
    "\n",
    "+ This notebook algorithm is on maximizing accuracy under fairness constraints using C-LR and C-SVM (A2)\n",
    "\n",
    "+ We used `utils.py` and `loss_funcs.py` as additional modules for our analysis to help build our algorithm"
   ]
  },
  {
   "cell_type": "markdown",
   "id": "645344a2",
   "metadata": {},
   "source": [
    "## 2. Data Preparation and EDA"
   ]
  },
  {
   "cell_type": "code",
   "execution_count": 20,
   "id": "4e291cb7",
   "metadata": {},
   "outputs": [],
   "source": [
    "# Load modules\n",
    "import os, sys\n",
    "import numpy as np\n",
    "import pandas as pd\n",
    "sys.path.insert(0, \"/Users/christopherhalim888/Library/CloudStorage/OneDrive-Personal/Master/Fall 2022/STAT 5243\")\n",
    "import utils1 as ut\n",
    "import loss_funcs as lf\n",
    "from sklearn.linear_model import LogisticRegression\n",
    "from sklearn.utils import shuffle\n",
    "from sklearn.metrics import log_loss\n",
    "from utils12 import *\n",
    "from sklearn import svm\n",
    "from sklearn.svm import SVC\n",
    "from sklearn.model_selection import train_test_split\n",
    "from sklearn.model_selection import KFold\n",
    "from sklearn.preprocessing import StandardScaler\n",
    "from sklearn.utils import shuffle\n",
    "from sklearn.metrics import accuracy_score\n",
    "from sklearn.metrics import log_loss"
   ]
  },
  {
   "cell_type": "code",
   "execution_count": 21,
   "id": "0708fd62",
   "metadata": {},
   "outputs": [
    {
     "name": "stdout",
     "output_type": "stream",
     "text": [
      "['Pool', 'Process', 'Queue', 'SEED', '__builtins__', '__cached__', '__doc__', '__file__', '__loader__', '__name__', '__package__', '__spec__', 'add_intercept', 'check_accuracy', 'check_binary', 'compute_cross_validation_error', 'compute_p_rule', 'deepcopy', 'defaultdict', 'get_avg_correlation_dict', 'get_constraint_list_cov', 'get_correlations', 'get_line_coordinates', 'get_one_hot_encoding', 'lf', 'minimize', 'np', 'plot_cov_thresh_vs_acc_pos_ratio', 'plt', 'print_classifier_fairness_stats', 'print_covariance_sensitive_attrs', 'seed', 'shuffle', 'split_into_train_test', 'sys', 'test_sensitive_attr_constraint_cov', 'train_model']\n"
     ]
    }
   ],
   "source": [
    "print(dir(ut))"
   ]
  },
  {
   "cell_type": "code",
   "execution_count": 22,
   "id": "1e3e2668",
   "metadata": {},
   "outputs": [
    {
     "data": {
      "text/html": [
       "<div>\n",
       "<style scoped>\n",
       "    .dataframe tbody tr th:only-of-type {\n",
       "        vertical-align: middle;\n",
       "    }\n",
       "\n",
       "    .dataframe tbody tr th {\n",
       "        vertical-align: top;\n",
       "    }\n",
       "\n",
       "    .dataframe thead th {\n",
       "        text-align: right;\n",
       "    }\n",
       "</style>\n",
       "<table border=\"1\" class=\"dataframe\">\n",
       "  <thead>\n",
       "    <tr style=\"text-align: right;\">\n",
       "      <th></th>\n",
       "      <th>sex</th>\n",
       "      <th>age_cat</th>\n",
       "      <th>race</th>\n",
       "      <th>priors_count</th>\n",
       "      <th>c_charge_degree</th>\n",
       "      <th>length_of_stay</th>\n",
       "      <th>two_year_recid</th>\n",
       "    </tr>\n",
       "  </thead>\n",
       "  <tbody>\n",
       "    <tr>\n",
       "      <th>0</th>\n",
       "      <td>Male</td>\n",
       "      <td>25 - 45</td>\n",
       "      <td>African-American</td>\n",
       "      <td>-0.733607</td>\n",
       "      <td>F</td>\n",
       "      <td>-0.177294</td>\n",
       "      <td>1</td>\n",
       "    </tr>\n",
       "    <tr>\n",
       "      <th>1</th>\n",
       "      <td>Male</td>\n",
       "      <td>&lt; 25</td>\n",
       "      <td>African-American</td>\n",
       "      <td>0.055928</td>\n",
       "      <td>F</td>\n",
       "      <td>-0.350235</td>\n",
       "      <td>1</td>\n",
       "    </tr>\n",
       "    <tr>\n",
       "      <th>2</th>\n",
       "      <td>Male</td>\n",
       "      <td>25 - 45</td>\n",
       "      <td>Caucasian</td>\n",
       "      <td>2.029767</td>\n",
       "      <td>F</td>\n",
       "      <td>-0.254156</td>\n",
       "      <td>1</td>\n",
       "    </tr>\n",
       "    <tr>\n",
       "      <th>3</th>\n",
       "      <td>Female</td>\n",
       "      <td>25 - 45</td>\n",
       "      <td>Caucasian</td>\n",
       "      <td>-0.733607</td>\n",
       "      <td>M</td>\n",
       "      <td>-0.311803</td>\n",
       "      <td>0</td>\n",
       "    </tr>\n",
       "    <tr>\n",
       "      <th>4</th>\n",
       "      <td>Male</td>\n",
       "      <td>&lt; 25</td>\n",
       "      <td>Caucasian</td>\n",
       "      <td>-0.536224</td>\n",
       "      <td>F</td>\n",
       "      <td>-0.350235</td>\n",
       "      <td>1</td>\n",
       "    </tr>\n",
       "  </tbody>\n",
       "</table>\n",
       "</div>"
      ],
      "text/plain": [
       "      sex  age_cat              race  priors_count c_charge_degree  \\\n",
       "0    Male  25 - 45  African-American     -0.733607               F   \n",
       "1    Male     < 25  African-American      0.055928               F   \n",
       "2    Male  25 - 45         Caucasian      2.029767               F   \n",
       "3  Female  25 - 45         Caucasian     -0.733607               M   \n",
       "4    Male     < 25         Caucasian     -0.536224               F   \n",
       "\n",
       "   length_of_stay  two_year_recid  \n",
       "0       -0.177294               1  \n",
       "1       -0.350235               1  \n",
       "2       -0.254156               1  \n",
       "3       -0.311803               0  \n",
       "4       -0.350235               1  "
      ]
     },
     "execution_count": 22,
     "metadata": {},
     "output_type": "execute_result"
    }
   ],
   "source": [
    "# Load data\n",
    "df = pd.read_csv('/Users/christopherhalim888/Library/CloudStorage/OneDrive-Personal/Master/Fall 2022/STAT 5243/compas-scores-two-years(cleaned).csv')\n",
    "df.head()"
   ]
  },
  {
   "cell_type": "markdown",
   "id": "c11af853",
   "metadata": {},
   "source": [
    "Encode categorical variables with dummy variables:\n",
    "+ `sex`: 1 for male and 0 for female\n",
    "+ `age_cat`: 2 for > 45, 1 for 25 - 45 and 0 for < 25\n",
    "+ `race`: 1 for caucasian and 0 for african-american\n",
    "+ `c_charge_degree`: 1 for F and 0 for M"
   ]
  },
  {
   "cell_type": "code",
   "execution_count": 23,
   "id": "6d51b0cd",
   "metadata": {},
   "outputs": [
    {
     "data": {
      "text/html": [
       "<div>\n",
       "<style scoped>\n",
       "    .dataframe tbody tr th:only-of-type {\n",
       "        vertical-align: middle;\n",
       "    }\n",
       "\n",
       "    .dataframe tbody tr th {\n",
       "        vertical-align: top;\n",
       "    }\n",
       "\n",
       "    .dataframe thead th {\n",
       "        text-align: right;\n",
       "    }\n",
       "</style>\n",
       "<table border=\"1\" class=\"dataframe\">\n",
       "  <thead>\n",
       "    <tr style=\"text-align: right;\">\n",
       "      <th></th>\n",
       "      <th>sex</th>\n",
       "      <th>age_cat</th>\n",
       "      <th>race</th>\n",
       "      <th>priors_count</th>\n",
       "      <th>c_charge_degree</th>\n",
       "      <th>length_of_stay</th>\n",
       "      <th>two_year_recid</th>\n",
       "    </tr>\n",
       "  </thead>\n",
       "  <tbody>\n",
       "    <tr>\n",
       "      <th>0</th>\n",
       "      <td>1</td>\n",
       "      <td>1</td>\n",
       "      <td>0</td>\n",
       "      <td>-0.733607</td>\n",
       "      <td>1</td>\n",
       "      <td>-0.177294</td>\n",
       "      <td>1</td>\n",
       "    </tr>\n",
       "    <tr>\n",
       "      <th>1</th>\n",
       "      <td>1</td>\n",
       "      <td>0</td>\n",
       "      <td>0</td>\n",
       "      <td>0.055928</td>\n",
       "      <td>1</td>\n",
       "      <td>-0.350235</td>\n",
       "      <td>1</td>\n",
       "    </tr>\n",
       "    <tr>\n",
       "      <th>2</th>\n",
       "      <td>1</td>\n",
       "      <td>1</td>\n",
       "      <td>1</td>\n",
       "      <td>2.029767</td>\n",
       "      <td>1</td>\n",
       "      <td>-0.254156</td>\n",
       "      <td>1</td>\n",
       "    </tr>\n",
       "    <tr>\n",
       "      <th>3</th>\n",
       "      <td>0</td>\n",
       "      <td>1</td>\n",
       "      <td>1</td>\n",
       "      <td>-0.733607</td>\n",
       "      <td>0</td>\n",
       "      <td>-0.311803</td>\n",
       "      <td>0</td>\n",
       "    </tr>\n",
       "    <tr>\n",
       "      <th>4</th>\n",
       "      <td>1</td>\n",
       "      <td>0</td>\n",
       "      <td>1</td>\n",
       "      <td>-0.536224</td>\n",
       "      <td>1</td>\n",
       "      <td>-0.350235</td>\n",
       "      <td>1</td>\n",
       "    </tr>\n",
       "  </tbody>\n",
       "</table>\n",
       "</div>"
      ],
      "text/plain": [
       "   sex  age_cat  race  priors_count  c_charge_degree  length_of_stay  \\\n",
       "0    1        1     0     -0.733607                1       -0.177294   \n",
       "1    1        0     0      0.055928                1       -0.350235   \n",
       "2    1        1     1      2.029767                1       -0.254156   \n",
       "3    0        1     1     -0.733607                0       -0.311803   \n",
       "4    1        0     1     -0.536224                1       -0.350235   \n",
       "\n",
       "   two_year_recid  \n",
       "0               1  \n",
       "1               1  \n",
       "2               1  \n",
       "3               0  \n",
       "4               1  "
      ]
     },
     "execution_count": 23,
     "metadata": {},
     "output_type": "execute_result"
    }
   ],
   "source": [
    "# Encode variables with dummy variables\n",
    "df['sex'] = df['sex'].apply(lambda sex: 0 if sex == 'Female' else 1)\n",
    "df['age_cat'] = df['age_cat'].apply(lambda age_cat: 2 if age_cat == '> 45' else(1 if age_cat == '25 - 45' else 0))\n",
    "df['race'] = df['race'].apply(lambda race: 0 if race == 'African-American' else 1)\n",
    "df['c_charge_degree'] = df['c_charge_degree'].apply(lambda c_charge_degree: 0 if c_charge_degree == 'M' else 1)\n",
    "df.head()"
   ]
  },
  {
   "cell_type": "code",
   "execution_count": 24,
   "id": "c24e1311",
   "metadata": {},
   "outputs": [],
   "source": [
    "# Vars to store features\n",
    "variables = ['sex', 'age_cat', 'priors_count', 'c_charge_degree', 'length_of_stay']\n",
    "dependent = 'race'\n",
    "target = 'two_year_recid'\n",
    "\n",
    "# Function to process the data\n",
    "def shuffle_data(df):\n",
    "    y_label = df[target]\n",
    "    protected = df[dependent]\n",
    "    df_new = df[variables]\n",
    "    y_label, protected, df_new = shuffle(y_label, protected, df_new, random_state = 617)\n",
    "    \n",
    "    return y_label.to_numpy(), protected.to_numpy(), df_new.to_numpy()\n",
    "\n",
    "# Split data into train and test, with 80:20 ratio\n",
    "y_label, protected, df_new =  shuffle_data(df)\n",
    "train_index = int(len(df_new) * 0.8)\n",
    "x_train, y_train, race_train = df_new[:train_index], y_label[:train_index], protected[:train_index]\n",
    "x_test, y_test, race_test = df_new[train_index:], y_label[train_index:],protected[train_index:]"
   ]
  },
  {
   "cell_type": "markdown",
   "id": "a8963532",
   "metadata": {},
   "source": [
    "Construct a function to determine the p% and a function to compute calibration.\n",
    "\n",
    "+ **Protected**: Caucasians (i.e., `race == 1`)\n",
    "+ **Not protected**: African-Americans (i.e., `race == 0`)"
   ]
  },
  {
   "cell_type": "code",
   "execution_count": 25,
   "id": "7e2bb50e",
   "metadata": {},
   "outputs": [],
   "source": [
    "# Function to compute p-rule\n",
    "def p_rule(var, y_pred):\n",
    "    protected = np.where(var == 1)[0]\n",
    "    not_protected = np.where(var == 0)[0]\n",
    "    protected_pred = np.where(y_pred[protected] == 1)\n",
    "    not_protected_pred = np.where(y_pred[not_protected] == 1)\n",
    "    protected_percent = protected_pred[0].shape[0]/protected.shape[0]\n",
    "    not_protected_percent = not_protected_pred[0].shape[0]/not_protected.shape[0]\n",
    "    ratio = min(protected_percent/not_protected_percent, not_protected_percent/protected_percent)\n",
    "    \n",
    "    return ratio, protected_percent, not_protected_percent"
   ]
  },
  {
   "cell_type": "code",
   "execution_count": 26,
   "id": "fa0f47f0",
   "metadata": {},
   "outputs": [],
   "source": [
    "# Function to compute calibration\n",
    "def calibrate(var, y_pred, y_true):\n",
    "    protected_point = np.where(var == 1)[0]\n",
    "    y_predcau = y_pred[protected_point]\n",
    "    y_truecau = y_true[protected_point]\n",
    "    \n",
    "    pcau = sum(y_predcau==y_truecau)/len(y_truecau)\n",
    "    not_protected_point = np.where(var == 0)[0]\n",
    "    \n",
    "    y_predafa = y_pred[not_protected_point]\n",
    "    y_trueafa = y_true[not_protected_point]\n",
    "    \n",
    "    pafa = sum(y_predafa==y_trueafa)/len(y_trueafa)\n",
    "    calibrate = abs(pcau-pafa)\n",
    "    \n",
    "    return(calibrate)"
   ]
  },
  {
   "cell_type": "markdown",
   "id": "70568a58",
   "metadata": {},
   "source": [
    "## 3. Logistic Regression <a class=\"anchor\" id=\"lr\"></a>"
   ]
  },
  {
   "cell_type": "markdown",
   "id": "62b00da9",
   "metadata": {},
   "source": [
    "### 3.1 Training unconstrained classifier"
   ]
  },
  {
   "cell_type": "code",
   "execution_count": 27,
   "id": "c7d18c24",
   "metadata": {},
   "outputs": [
    {
     "data": {
      "text/html": [
       "<div>\n",
       "<style scoped>\n",
       "    .dataframe tbody tr th:only-of-type {\n",
       "        vertical-align: middle;\n",
       "    }\n",
       "\n",
       "    .dataframe tbody tr th {\n",
       "        vertical-align: top;\n",
       "    }\n",
       "\n",
       "    .dataframe thead th {\n",
       "        text-align: right;\n",
       "    }\n",
       "</style>\n",
       "<table border=\"1\" class=\"dataframe\">\n",
       "  <thead>\n",
       "    <tr style=\"text-align: right;\">\n",
       "      <th></th>\n",
       "      <th>Classifier</th>\n",
       "      <th>Set</th>\n",
       "      <th>P-rule (%)</th>\n",
       "      <th>Accuracy (%)</th>\n",
       "      <th>Protected (%)</th>\n",
       "      <th>Not protected (%)</th>\n",
       "      <th>Calibration (%)</th>\n",
       "    </tr>\n",
       "  </thead>\n",
       "  <tbody>\n",
       "    <tr>\n",
       "      <th>0</th>\n",
       "      <td>LR</td>\n",
       "      <td>Train</td>\n",
       "      <td>99.947862</td>\n",
       "      <td>66.462384</td>\n",
       "      <td>29.752501</td>\n",
       "      <td>54.429933</td>\n",
       "      <td>1.417935</td>\n",
       "    </tr>\n",
       "    <tr>\n",
       "      <th>1</th>\n",
       "      <td>LR</td>\n",
       "      <td>Test</td>\n",
       "      <td>100.000000</td>\n",
       "      <td>65.426881</td>\n",
       "      <td>33.611691</td>\n",
       "      <td>53.977273</td>\n",
       "      <td>3.369650</td>\n",
       "    </tr>\n",
       "  </tbody>\n",
       "</table>\n",
       "</div>"
      ],
      "text/plain": [
       "  Classifier    Set  P-rule (%)  Accuracy (%)  Protected (%)  \\\n",
       "0         LR  Train   99.947862     66.462384      29.752501   \n",
       "1         LR   Test  100.000000     65.426881      33.611691   \n",
       "\n",
       "   Not protected (%)  Calibration (%)  \n",
       "0          54.429933         1.417935  \n",
       "1          53.977273         3.369650  "
      ]
     },
     "execution_count": 27,
     "metadata": {},
     "output_type": "execute_result"
    }
   ],
   "source": [
    "# Train model and print results\n",
    "model = LogisticRegression(random_state = 0).fit(x_train, y_train)\n",
    "coeff = model.coef_\n",
    "intercept = model.intercept_\n",
    "optimal_loss = log_loss(y_train, model.predict_proba(x_train))\n",
    "results_lr = {\"Classifier\": [\"LR\", \"LR\"], \n",
    "              \"Set\": [\"Train\", \"Test\"],\n",
    "              \"P-rule (%)\": [p_rule(race_train, m.predict(x_train))[0]*100, p_rule(race_test, m.predict(x_test))[0]*100],\n",
    "              \"Accuracy (%)\": [model.score(x_train, y_train)*100, model.score(x_test, y_test)*100],\n",
    "              \"Protected (%)\": [p_rule(race_train, model.predict(x_train))[1]*100, p_rule(race_test, model.predict(x_test))[1]*100],\n",
    "              \"Not protected (%)\": [p_rule(race_train, model.predict(x_train))[2]*100, p_rule(race_test, model.predict(x_test))[2]*100],\n",
    "              \"Calibration (%)\": [calibrate(race_train, model.predict(x_train), y_train)*100, calibrate(race_test, model.predict(x_test), y_test)*100]\n",
    "             }\n",
    "\n",
    "pd.DataFrame(results_lr)"
   ]
  },
  {
   "cell_type": "markdown",
   "id": "fb1f2cfb",
   "metadata": {},
   "source": [
    "### 3.2 Optimizing classifier accuracy subject to fairness constraints"
   ]
  },
  {
   "cell_type": "markdown",
   "id": "e75eea19",
   "metadata": {},
   "source": [
    "Optimize our accuracy subject to fairness constraints. By setting 'race': 0', we assume that the classifier should achieve 0 covariance with respect to 'race' value and distance to the decision boundary. A 0 covariance means that no correlation exists between the two variables."
   ]
  },
  {
   "cell_type": "code",
   "execution_count": 28,
   "id": "1bec9dda",
   "metadata": {
    "scrolled": true
   },
   "outputs": [],
   "source": [
    "# Setting flags\n",
    "apply_fairness_constraints = 1 # set this flag to 1 since we want to optimize accuracy subject to fairness constraints\n",
    "apply_accuracy_constraint = 0\n",
    "sep_constraint = 0\n",
    "gamma = None\n",
    "sensitive_attrs = ['race']\n",
    "sensitive_attrs_to_cov_thresh = {'race': 0}\n",
    "x_control = {'race': race_train}\n",
    "\n",
    "# Train model\n",
    "np.random.seed(100)\n",
    "w = ut.train_model(x_train,\n",
    "                   y_train,\n",
    "                   x_control,\n",
    "                   lf._logistic_loss,\n",
    "                   apply_fairness_constraints,\n",
    "                   apply_accuracy_constraint,\n",
    "                   sep_constraint,\n",
    "                   sensitive_attrs,\n",
    "                   sensitive_attrs_to_cov_thresh,\n",
    "                   gamma)"
   ]
  },
  {
   "cell_type": "code",
   "execution_count": 29,
   "id": "4ae25c44",
   "metadata": {},
   "outputs": [],
   "source": [
    "# Fit coefficients/weights into logistic regression in sklearn\n",
    "m = LogisticRegression()\n",
    "m.coef_= w.reshape((1,-1))\n",
    "m.intercept_ = 0\n",
    "m.classes_ = np.array([0, 1])"
   ]
  },
  {
   "cell_type": "code",
   "execution_count": 30,
   "id": "603d611d",
   "metadata": {},
   "outputs": [
    {
     "data": {
      "text/html": [
       "<div>\n",
       "<style scoped>\n",
       "    .dataframe tbody tr th:only-of-type {\n",
       "        vertical-align: middle;\n",
       "    }\n",
       "\n",
       "    .dataframe tbody tr th {\n",
       "        vertical-align: top;\n",
       "    }\n",
       "\n",
       "    .dataframe thead th {\n",
       "        text-align: right;\n",
       "    }\n",
       "</style>\n",
       "<table border=\"1\" class=\"dataframe\">\n",
       "  <thead>\n",
       "    <tr style=\"text-align: right;\">\n",
       "      <th></th>\n",
       "      <th>Classifier</th>\n",
       "      <th>Set</th>\n",
       "      <th>P-rule (%)</th>\n",
       "      <th>Accuracy (%)</th>\n",
       "      <th>Protected (%)</th>\n",
       "      <th>Not protected (%)</th>\n",
       "      <th>Calibration (%)</th>\n",
       "    </tr>\n",
       "  </thead>\n",
       "  <tbody>\n",
       "    <tr>\n",
       "      <th>0</th>\n",
       "      <td>C-LR</td>\n",
       "      <td>Train</td>\n",
       "      <td>99.947862</td>\n",
       "      <td>48.013525</td>\n",
       "      <td>99.842022</td>\n",
       "      <td>99.894105</td>\n",
       "      <td>13.261964</td>\n",
       "    </tr>\n",
       "    <tr>\n",
       "      <th>1</th>\n",
       "      <td>C-LR</td>\n",
       "      <td>Test</td>\n",
       "      <td>100.000000</td>\n",
       "      <td>46.661031</td>\n",
       "      <td>100.000000</td>\n",
       "      <td>100.000000</td>\n",
       "      <td>10.000415</td>\n",
       "    </tr>\n",
       "  </tbody>\n",
       "</table>\n",
       "</div>"
      ],
      "text/plain": [
       "  Classifier    Set  P-rule (%)  Accuracy (%)  Protected (%)  \\\n",
       "0       C-LR  Train   99.947862     48.013525      99.842022   \n",
       "1       C-LR   Test  100.000000     46.661031     100.000000   \n",
       "\n",
       "   Not protected (%)  Calibration (%)  \n",
       "0          99.894105        13.261964  \n",
       "1         100.000000        10.000415  "
      ]
     },
     "execution_count": 30,
     "metadata": {},
     "output_type": "execute_result"
    }
   ],
   "source": [
    "# Print results\n",
    "result_CLR = {\"Classifier\": [\"C-LR\", \"C-LR\"],\n",
    "               \"Set\": [\"Train\", \"Test\"],\n",
    "               \"P-rule (%)\": [p_rule(race_train, m.predict(x_train))[0]*100, p_rule(race_test, m.predict(x_test))[0]*100],\n",
    "               \"Accuracy (%)\": [m.score(x_train, y_train)*100, m.score(x_test, y_test)*100], \n",
    "               \"Protected (%)\": [p_rule(race_train, m.predict(x_train))[1]*100, p_rule(race_test, m.predict(x_test))[1]*100],\n",
    "               \"Not protected (%)\": [p_rule(race_train, m.predict(x_train))[2]*100, p_rule(race_test, m.predict(x_test))[2]*100],\n",
    "               \"Calibration (%)\": [calibrate(race_train, m.predict(x_train), y_train)*100, calibrate(race_test, m.predict(x_test), y_test)*100]\n",
    "             }\n",
    "pd.DataFrame(result_CLR)"
   ]
  },
  {
   "cell_type": "markdown",
   "id": "cd1faac2",
   "metadata": {},
   "source": [
    "## 4. Support Vector Machine (SVM) <a class=\"anchor\" id=\"svm\"></a>"
   ]
  },
  {
   "cell_type": "markdown",
   "id": "d7c5981c",
   "metadata": {},
   "source": [
    "The following SVM codes are an adaptation of the paper on [Fairness Constraints: Mechanisms for Fair Classification](https://arxiv.org/abs/1507.05259). Additional helper functions like `SVM_scratch.py`, `datapreprocess.py` and `helper.py`were adapted from this GitHub [repo](https://github.com/SreeranjaniD/Fairness-in-Classification-using-SVM)."
   ]
  },
  {
   "cell_type": "code",
   "execution_count": 31,
   "id": "f9381f97",
   "metadata": {},
   "outputs": [],
   "source": [
    "# Load modules\n",
    "from SVM_scratch import *\n",
    "from datapreprocess import *\n",
    "from helper import *\n",
    "\n",
    "# Set variables needed for training\n",
    "x_control_train = {'race': race_train}\n",
    "x_control_test = {'race': race_test}"
   ]
  },
  {
   "cell_type": "markdown",
   "id": "26574504",
   "metadata": {},
   "source": [
    "Here we define a function for the classifier, which trains the model based on the fairness constraints."
   ]
  },
  {
   "cell_type": "code",
   "execution_count": 32,
   "id": "26b3a7e5",
   "metadata": {},
   "outputs": [],
   "source": [
    "# Define function for classifier\n",
    "def classifier(apply_fairness_constraints,loss_function,c,sensitive_attrs,max_iter=1000,epoch=50,lamb=1,lr=0.1,C=1,gamma=None):\n",
    "    svm =SVM()\n",
    "    w = svm.training(x_train,y_train, x_control_train, loss_function,C,max_iter,lamb,epoch,lr, apply_fairness_constraints, sensitive_attrs, c,gamma)\n",
    "    train_score, test_score, correct_answers_train, correct_answers_test = ut.check_accuracy(w, x_train, y_train, x_test, y_test, None, None)\n",
    "    distances_hyperplane_test = (np.dot(x_test, w)).tolist()\n",
    "    all_class_labels_assigned_test = np.sign(distances_hyperplane_test)\n",
    "    correlation_test_dict = ut.get_correlations(None, None, all_class_labels_assigned_test, x_control_test, sensitive_attrs)\n",
    "    cov_dict_test = ut.print_covariance_sensitive_attrs(None, x_test, distances_hyperplane_test, x_control_test, sensitive_attrs)\n",
    "    ut.print_classifier_fairness_stats([test_score],correlation_test_dict, [cov_dict_test], sensitive_attrs[0])\n",
    "    "
   ]
  },
  {
   "cell_type": "markdown",
   "id": "f6632771",
   "metadata": {},
   "source": [
    "### 4.1 T Train unconstrained SVM classifier"
   ]
  },
  {
   "cell_type": "code",
   "execution_count": 33,
   "id": "af2a19b7",
   "metadata": {},
   "outputs": [
    {
     "data": {
      "text/html": [
       "<div>\n",
       "<style scoped>\n",
       "    .dataframe tbody tr th:only-of-type {\n",
       "        vertical-align: middle;\n",
       "    }\n",
       "\n",
       "    .dataframe tbody tr th {\n",
       "        vertical-align: top;\n",
       "    }\n",
       "\n",
       "    .dataframe thead th {\n",
       "        text-align: right;\n",
       "    }\n",
       "</style>\n",
       "<table border=\"1\" class=\"dataframe\">\n",
       "  <thead>\n",
       "    <tr style=\"text-align: right;\">\n",
       "      <th></th>\n",
       "      <th>Classifier</th>\n",
       "      <th>Set</th>\n",
       "      <th>P-rule (%)</th>\n",
       "      <th>Accuracy (%)</th>\n",
       "      <th>Calibration (%)</th>\n",
       "      <th>Protected (%)</th>\n",
       "      <th>Not protected (%)</th>\n",
       "    </tr>\n",
       "  </thead>\n",
       "  <tbody>\n",
       "    <tr>\n",
       "      <th>0</th>\n",
       "      <td>SVM</td>\n",
       "      <td>Train</td>\n",
       "      <td>52.057837</td>\n",
       "      <td>66.208791</td>\n",
       "      <td>0.818440</td>\n",
       "      <td>26.276988</td>\n",
       "      <td>50.476527</td>\n",
       "    </tr>\n",
       "    <tr>\n",
       "      <th>1</th>\n",
       "      <td>SVM</td>\n",
       "      <td>Test</td>\n",
       "      <td>63.109384</td>\n",
       "      <td>65.511412</td>\n",
       "      <td>3.227605</td>\n",
       "      <td>31.106472</td>\n",
       "      <td>49.289773</td>\n",
       "    </tr>\n",
       "  </tbody>\n",
       "</table>\n",
       "</div>"
      ],
      "text/plain": [
       "  Classifier    Set  P-rule (%)  Accuracy (%)  Calibration (%)  Protected (%)  \\\n",
       "0        SVM  Train   52.057837     66.208791         0.818440      26.276988   \n",
       "1        SVM   Test   63.109384     65.511412         3.227605      31.106472   \n",
       "\n",
       "   Not protected (%)  \n",
       "0          50.476527  \n",
       "1          49.289773  "
      ]
     },
     "execution_count": 33,
     "metadata": {},
     "output_type": "execute_result"
    }
   ],
   "source": [
    "svm_model = SVC(kernel = 'linear', probability = True)\n",
    "\n",
    "# Train model and print results\n",
    "model_1 = svm_model.fit(x_train, y_train)\n",
    "optimal_loss = log_loss(y_train, model_1.predict_proba(x_train))\n",
    "results_svm = {\"Classifier\": [\"SVM\", \"SVM\"],\n",
    "               \"Set\": [\"Train\", \"Test\"],\n",
    "               \"P-rule (%)\": [p_rule(race_train, model_1.predict(x_train))[0]*100, p_rule(race_test, model_1.predict(x_test))[0]*100],\n",
    "               \"Accuracy (%)\": [model_1.score(x_train, y_train)*100, model_1.score(x_test, y_test)*100],\n",
    "               \"Calibration (%)\": [calibrate(race_train, model_1.predict(x_train), y_train)*100, calibrate(race_test, model_1.predict(x_test), y_test)*100],\n",
    "               \"Protected (%)\": [p_rule(race_train, model_1.predict(x_train))[1]*100, p_rule(race_test, model_1.predict(x_test))[1]*100],\n",
    "               \"Not protected (%)\": [p_rule(race_train, model_1.predict(x_train))[2]*100, p_rule(race_test, model_1.predict(x_test))[2]*100]\n",
    "               }\n",
    "\n",
    "print_result = pd.DataFrame(results_svm)\n",
    "print_result"
   ]
  },
  {
   "cell_type": "markdown",
   "id": "c7d3b47b",
   "metadata": {},
   "source": [
    "### 4.2 Optimize SVM Classifier Accuracy Subject to Fairness Constraints"
   ]
  },
  {
   "cell_type": "markdown",
   "id": "b4e62089",
   "metadata": {},
   "source": [
    "Now we optimize accuracy subject to fairness constraints. "
   ]
  },
  {
   "cell_type": "code",
   "execution_count": 34,
   "id": "136511ab",
   "metadata": {},
   "outputs": [],
   "source": [
    "# Subject to fairness constraints\n",
    "apply_fairness_constraints = 1 # set this flag to one since we want to optimize accuracy subject to fairness constraints\n",
    "loss_function = lf._hinge_loss\n",
    "sensitive_attrs = ['race']\n",
    "c = {'race': 0} # covariance threshold\n",
    "C = 1 # penalty term\n",
    "\n",
    "# gamma controls how much loss in accuracy we are willing to incur to achieve fairness \n",
    "# Increase in gamma will decrease the accuracy to a certain limit \n",
    "# Set gamma to None because we are not use the Gamma to tune our analysis\n",
    "gamma = None\n",
    "epochs = 1000 # Number of epochs \n",
    "lamb = 1 # lambda \n",
    "lr = 0.1  # learning rate \n",
    "max_iter = 1000"
   ]
  },
  {
   "cell_type": "markdown",
   "id": "1241ab92",
   "metadata": {},
   "source": [
    "We defined a 'csvm' function that returns the train and test scores, and the predicted values for train and test so that we can compute the accuracy and calibration scores later."
   ]
  },
  {
   "cell_type": "code",
   "execution_count": 35,
   "id": "425cce28",
   "metadata": {},
   "outputs": [],
   "source": [
    "# Define function for training that returns scores\n",
    "def csvm(x_train, y_train, x_test, y_test, C, max_iter, lamb, epochs,lr, apply_fairness_constraints, \n",
    "         sensitive_attrs, sensitive_attrs_to_cov_thresh=c, gamma=None):\n",
    "    \n",
    "    svm = SVM()\n",
    "    w = svm.training(x_train, y_train, x_control_train, loss_function, C, max_iter, lamb, epochs, lr, \n",
    "                     apply_fairness_constraints, sensitive_attrs, sensitive_attrs_to_cov_thresh, gamma)\n",
    "    y_test_pred = np.sign(np.dot(x_test, w))\n",
    "    y_train_pred = np.sign(np.dot(x_train, w))\n",
    "    \n",
    "    def accuracy(y, Y_pred):\n",
    "        correct_answers = (Y_pred == y).astype(int) # will have 1 when the prediction and the actual label match\n",
    "        accuracy = float(sum(correct_answers)) / float(len(correct_answers))\n",
    "        return accuracy, sum(correct_answers)\n",
    "\n",
    "    train_score, correct_answers_train = accuracy(y_train, y_train_pred)\n",
    "    test_score, correct_answers_test = accuracy(y_test, y_test_pred)\n",
    "    return train_score, test_score, correct_answers_train, correct_answers_test, y_test_pred, y_train_pred"
   ]
  },
  {
   "cell_type": "code",
   "execution_count": 36,
   "id": "06dac958",
   "metadata": {},
   "outputs": [
    {
     "name": "stdout",
     "output_type": "stream",
     "text": [
      "Running custom model with fairness constraints\n"
     ]
    }
   ],
   "source": [
    "\n",
    "train_score, test_score, correct_answers_train, correct_answers_test, y_test_pred, y_train_pred = csvm(x_train, y_train, x_test, y_test, C, max_iter, lamb, epochs,lr, apply_fairness_constraints, sensitive_attrs, sensitive_attrs_to_cov_thresh=c, gamma=None)\n"
   ]
  },
  {
   "cell_type": "code",
   "execution_count": 38,
   "id": "879367bc",
   "metadata": {},
   "outputs": [
    {
     "data": {
      "text/html": [
       "<div>\n",
       "<style scoped>\n",
       "    .dataframe tbody tr th:only-of-type {\n",
       "        vertical-align: middle;\n",
       "    }\n",
       "\n",
       "    .dataframe tbody tr th {\n",
       "        vertical-align: top;\n",
       "    }\n",
       "\n",
       "    .dataframe thead th {\n",
       "        text-align: right;\n",
       "    }\n",
       "</style>\n",
       "<table border=\"1\" class=\"dataframe\">\n",
       "  <thead>\n",
       "    <tr style=\"text-align: right;\">\n",
       "      <th></th>\n",
       "      <th>Classifier</th>\n",
       "      <th>Set</th>\n",
       "      <th>P-rule (%)</th>\n",
       "      <th>Accuracy (%)</th>\n",
       "      <th>Calibration (%)</th>\n",
       "      <th>Protected (%)</th>\n",
       "      <th>Not protected (%)</th>\n",
       "    </tr>\n",
       "  </thead>\n",
       "  <tbody>\n",
       "    <tr>\n",
       "      <th>0</th>\n",
       "      <td>C-SVM</td>\n",
       "      <td>Train</td>\n",
       "      <td>99.930962</td>\n",
       "      <td>47.886729</td>\n",
       "      <td>13.314047</td>\n",
       "      <td>99.684044</td>\n",
       "      <td>99.752912</td>\n",
       "    </tr>\n",
       "    <tr>\n",
       "      <th>1</th>\n",
       "      <td>C-SVM</td>\n",
       "      <td>Test</td>\n",
       "      <td>99.724117</td>\n",
       "      <td>46.491970</td>\n",
       "      <td>10.067138</td>\n",
       "      <td>99.582463</td>\n",
       "      <td>99.857955</td>\n",
       "    </tr>\n",
       "  </tbody>\n",
       "</table>\n",
       "</div>"
      ],
      "text/plain": [
       "  Classifier    Set  P-rule (%)  Accuracy (%)  Calibration (%)  Protected (%)  \\\n",
       "0      C-SVM  Train   99.930962     47.886729        13.314047      99.684044   \n",
       "1      C-SVM   Test   99.724117     46.491970        10.067138      99.582463   \n",
       "\n",
       "   Not protected (%)  \n",
       "0          99.752912  \n",
       "1          99.857955  "
      ]
     },
     "execution_count": 38,
     "metadata": {},
     "output_type": "execute_result"
    }
   ],
   "source": [
    "# Results\n",
    "results_csvm = {\"Classifier\": [\"C-SVM\", \"C-SVM\"],\n",
    "                \"Set\": [\"Train\", \"Test\"],\n",
    "                \"P-rule (%)\": [p_rule(race_train, y_train_pred)[0]*100, p_rule(race_test, y_test_pred)[0]*100],\n",
    "                \"Accuracy (%)\": [train_score*100, test_score*100],\n",
    "                \"Calibration (%)\": [calibrate(race_train, y_train_pred, y_train)*100, calibrate(race_test, y_test_pred, y_test)*100],\n",
    "                \"Protected (%)\": [p_rule(race_train, y_train_pred)[1]*100, p_rule(race_test, y_test_pred)[1]*100],\n",
    "                \"Not protected (%)\": [p_rule(race_train, y_train_pred)[2]*100, p_rule(race_test, y_test_pred)[2]*100]\n",
    "                }\n",
    "\n",
    "pd.DataFrame(results_csvm)"
   ]
  },
  {
   "cell_type": "code",
   "execution_count": null,
   "id": "e3fd9c80",
   "metadata": {},
   "outputs": [],
   "source": []
  }
 ],
 "metadata": {
  "kernelspec": {
   "display_name": "Python 3",
   "language": "python",
   "name": "python3"
  },
  "language_info": {
   "codemirror_mode": {
    "name": "ipython",
    "version": 3
   },
   "file_extension": ".py",
   "mimetype": "text/x-python",
   "name": "python",
   "nbconvert_exporter": "python",
   "pygments_lexer": "ipython3",
   "version": "3.8.8"
  }
 },
 "nbformat": 4,
 "nbformat_minor": 5
}
